{
 "cells": [
  {
   "cell_type": "code",
   "execution_count": 1,
   "metadata": {
    "ExecuteTime": {
     "end_time": "2020-05-22T20:09:54.820455Z",
     "start_time": "2020-05-22T20:09:53.865762Z"
    }
   },
   "outputs": [
    {
     "name": "stdout",
     "output_type": "stream",
     "text": [
      "Check that the EQHazard filename is imported: C:\\Users\\ahul697\\Anaconda3\\lib\\site-packages\\seaturtles\\EQHazard.jar\n"
     ]
    }
   ],
   "source": [
    "from seaturtles import *\n",
    "\n",
    "import matplotlib.pyplot as plt\n",
    "import geopandas as gpd\n",
    "from shapely.geometry import Point, LineString, shape\n",
    "\n",
    "print('Check that the EQHazard filename is imported: %s'%(EQHazard_file))\n"
   ]
  },
  {
   "cell_type": "markdown",
   "metadata": {},
   "source": [
    "### Define the site location\n",
    "\n",
    "This is only for one site at a time. The rupture will be selected based on the closest rupture to this location."
   ]
  },
  {
   "cell_type": "code",
   "execution_count": 2,
   "metadata": {
    "ExecuteTime": {
     "end_time": "2020-05-22T20:09:58.713984Z",
     "start_time": "2020-05-22T20:09:58.709013Z"
    }
   },
   "outputs": [],
   "source": [
    "# site name for input/output files\n",
    "site_name = 'SF'\n",
    "\n",
    "latitude = 37.79\n",
    "longitude = -122.4\n",
    "\n",
    "# search for ruptures within this distance\n",
    "max_distance = 300\n",
    "\n",
    "# set max sources\n",
    "    # this number determines how many background sources you collect\n",
    "    # if you are only looking for ruptures along known faults, this can be small\n",
    "max_sources = 200"
   ]
  },
  {
   "cell_type": "markdown",
   "metadata": {},
   "source": [
    "### create EQHazard input and output files"
   ]
  },
  {
   "cell_type": "code",
   "execution_count": 3,
   "metadata": {},
   "outputs": [],
   "source": [
    "folder = 'rupture_selection/'\n",
    "if not os.path.exists(folder[:-1]):\n",
    "    os.makedirs(folder[:-1])\n",
    "\n",
    "eq = site_name + '_' + str(max_distance) + 'km_' + str(max_sources) + 'sources'\n",
    "eq_input_file = folder + eq + '.json'\n",
    "eq_output_file = folder + eq + '_OUTPUT.json' "
   ]
  },
  {
   "cell_type": "code",
   "execution_count": 4,
   "metadata": {
    "ExecuteTime": {
     "end_time": "2020-05-22T20:10:17.006827Z",
     "start_time": "2020-05-22T20:10:02.444992Z"
    }
   },
   "outputs": [],
   "source": [
    "eq_hazard = dict()\n",
    "eq_hazard['Site'] = {'Type': 'SingleLocation'}\n",
    "eq_hazard['Site']['Location'] = {'Latitude': latitude, 'Longitude': longitude}\n",
    "\n",
    "eq_hazard['EqRupture'] = {'Type': 'ERF',\n",
    "                          'RuptureForecast': 'WGCEP (2007) UCERF2 - Single Branch',\n",
    "                          'ExportGeoJson': True,\n",
    "                          'MaxDistance': max_distance,\n",
    "                          'MaxSources': max_sources}\n",
    "\n",
    "with open(eq_input_file, 'w') as f:\n",
    "    json.dump(eq_hazard, f, indent=4)\n"
   ]
  },
  {
   "cell_type": "code",
   "execution_count": 5,
   "metadata": {},
   "outputs": [
    {
     "name": "stdout",
     "output_type": "stream",
     "text": [
      "EQHazard ran successfully.\n"
     ]
    }
   ],
   "source": [
    "command_run = subprocess.call(['java', '-jar', '-Xmx1g', EQHazard_file, eq_input_file, eq_output_file])\n",
    "\n",
    "if command_run == 0:\n",
    "    print('EQHazard ran successfully.')\n",
    "else:\n",
    "    print('There was a problem running the EQHazard.jar file, start troubleshooting.')"
   ]
  },
  {
   "cell_type": "markdown",
   "metadata": {},
   "source": [
    "### load EQHazard output"
   ]
  },
  {
   "cell_type": "code",
   "execution_count": 6,
   "metadata": {
    "ExecuteTime": {
     "end_time": "2020-05-22T20:10:25.663038Z",
     "start_time": "2020-05-22T20:10:17.014794Z"
    }
   },
   "outputs": [],
   "source": [
    "all_seismicity = gpd.read_file(eq_output_file)  "
   ]
  },
  {
   "cell_type": "markdown",
   "metadata": {},
   "source": [
    "#### this includes some background seismicity that will be removed"
   ]
  },
  {
   "cell_type": "code",
   "execution_count": 7,
   "metadata": {
    "ExecuteTime": {
     "end_time": "2020-05-22T20:10:31.632199Z",
     "start_time": "2020-05-22T20:10:25.665038Z"
    }
   },
   "outputs": [],
   "source": [
    "background_idx = 296 # index of the first background source\n",
    "idx = all_seismicity['Source']<background_idx\n",
    "ruptures = all_seismicity[idx]\n",
    "\n",
    "# save this smaller file\n",
    "eq_rupture_file = folder + eq + '_Ruptures.json'\n",
    "ruptures.to_file(eq_rupture_file, driver='GeoJSON')"
   ]
  },
  {
   "cell_type": "markdown",
   "metadata": {
    "ExecuteTime": {
     "end_time": "2020-05-08T22:12:11.533116Z",
     "start_time": "2020-05-08T22:12:10.867495Z"
    }
   },
   "source": [
    "#### map the seismicity"
   ]
  },
  {
   "cell_type": "code",
   "execution_count": 8,
   "metadata": {
    "ExecuteTime": {
     "end_time": "2020-05-22T20:10:32.926378Z",
     "start_time": "2020-05-22T20:10:31.634229Z"
    }
   },
   "outputs": [
    {
     "data": {
      "image/png": "[encoded data removed]",
      "text/plain": [
       "<Figure size 720x720 with 1 Axes>"
      ]
     },
     "metadata": {
      "needs_background": "light"
     },
     "output_type": "display_data"
    }
   ],
   "source": [
    "bounds = ruptures.total_bounds\n",
    "xlim = [bounds[0], bounds[2]]\n",
    "ylim = [bounds[1], bounds[3]]\n",
    "\n",
    "points = [Point(longitude, latitude)]\n",
    "site = gpd.GeoDataFrame(geometry=points)\n",
    "\n",
    "ca_geojson_file = 'CA_polygon.geojson'\n",
    "ca_map = gpd.read_file(ca_geojson_file)\n",
    "\n",
    "\n",
    "fig, ax = plt.subplots(1,1, figsize=(10,10))\n",
    "_ = ca_map.plot(ax=ax, color='silver')\n",
    "_ = ruptures.plot(ax=ax, color='brown')\n",
    "\n",
    "_ = site.plot(ax=ax, color='k', zorder=5, markersize=100)\n",
    "\n",
    "_ = ax.fill_between(xlim, [ylim[0]]*2, [ylim[1]]*2,color='azure', zorder=-5)\n",
    "_ = ax.set_xlim(xlim)\n",
    "_ = ax.set_ylim(ylim)\n",
    "_ = ax.axis('off')   \n",
    "    "
   ]
  },
  {
   "cell_type": "code",
   "execution_count": 9,
   "metadata": {
    "ExecuteTime": {
     "end_time": "2020-05-22T20:10:32.964336Z",
     "start_time": "2020-05-22T20:10:32.928351Z"
    }
   },
   "outputs": [
    {
     "data": {
      "text/html": [
       "<div>\n",
       "<style scoped>\n",
       "    .dataframe tbody tr th:only-of-type {\n",
       "        vertical-align: middle;\n",
       "    }\n",
       "\n",
       "    .dataframe tbody tr th {\n",
       "        vertical-align: top;\n",
       "    }\n",
       "\n",
       "    .dataframe thead th {\n",
       "        text-align: right;\n",
       "    }\n",
       "</style>\n",
       "<table border=\"1\" class=\"dataframe\">\n",
       "  <thead>\n",
       "    <tr style=\"text-align: right;\">\n",
       "      <th></th>\n",
       "      <th>Name</th>\n",
       "      <th>Rupture</th>\n",
       "      <th>Source</th>\n",
       "      <th>Distance</th>\n",
       "      <th>DistanceRup</th>\n",
       "      <th>DistanceSeis</th>\n",
       "      <th>DistanceJB</th>\n",
       "      <th>DistanceX</th>\n",
       "      <th>Magnitude</th>\n",
       "      <th>Probability</th>\n",
       "      <th>MeanAnnualRate</th>\n",
       "      <th>geometry</th>\n",
       "    </tr>\n",
       "  </thead>\n",
       "  <tbody>\n",
       "    <tr>\n",
       "      <th>520</th>\n",
       "      <td>N. San Andreas;SAP+SAS</td>\n",
       "      <td>0</td>\n",
       "      <td>41</td>\n",
       "      <td>13.020442</td>\n",
       "      <td>13.020442</td>\n",
       "      <td>13.355722</td>\n",
       "      <td>13.014427</td>\n",
       "      <td>-13.014197</td>\n",
       "      <td>7.25</td>\n",
       "      <td>0.003287</td>\n",
       "      <td>0.000110</td>\n",
       "      <td>LINESTRING (-122.57410 37.78560, -122.28300 37...</td>\n",
       "    </tr>\n",
       "    <tr>\n",
       "      <th>521</th>\n",
       "      <td>N. San Andreas;SAP+SAS</td>\n",
       "      <td>1</td>\n",
       "      <td>41</td>\n",
       "      <td>13.020442</td>\n",
       "      <td>13.020442</td>\n",
       "      <td>13.355722</td>\n",
       "      <td>13.014427</td>\n",
       "      <td>-13.014197</td>\n",
       "      <td>7.35</td>\n",
       "      <td>0.009787</td>\n",
       "      <td>0.000328</td>\n",
       "      <td>LINESTRING (-122.57410 37.78560, -122.28300 37...</td>\n",
       "    </tr>\n",
       "    <tr>\n",
       "      <th>522</th>\n",
       "      <td>N. San Andreas;SAP+SAS</td>\n",
       "      <td>2</td>\n",
       "      <td>41</td>\n",
       "      <td>13.020442</td>\n",
       "      <td>13.020442</td>\n",
       "      <td>13.355722</td>\n",
       "      <td>13.014427</td>\n",
       "      <td>-13.014197</td>\n",
       "      <td>7.45</td>\n",
       "      <td>0.014728</td>\n",
       "      <td>0.000495</td>\n",
       "      <td>LINESTRING (-122.57410 37.78560, -122.28300 37...</td>\n",
       "    </tr>\n",
       "    <tr>\n",
       "      <th>523</th>\n",
       "      <td>N. San Andreas;SAP+SAS</td>\n",
       "      <td>3</td>\n",
       "      <td>41</td>\n",
       "      <td>13.020442</td>\n",
       "      <td>13.020442</td>\n",
       "      <td>13.355722</td>\n",
       "      <td>13.014427</td>\n",
       "      <td>-13.014197</td>\n",
       "      <td>7.55</td>\n",
       "      <td>0.011204</td>\n",
       "      <td>0.000376</td>\n",
       "      <td>LINESTRING (-122.57410 37.78560, -122.28300 37...</td>\n",
       "    </tr>\n",
       "    <tr>\n",
       "      <th>524</th>\n",
       "      <td>N. San Andreas;SAP+SAS</td>\n",
       "      <td>4</td>\n",
       "      <td>41</td>\n",
       "      <td>13.020442</td>\n",
       "      <td>13.020442</td>\n",
       "      <td>13.355722</td>\n",
       "      <td>13.014427</td>\n",
       "      <td>-13.014197</td>\n",
       "      <td>7.65</td>\n",
       "      <td>0.004321</td>\n",
       "      <td>0.000144</td>\n",
       "      <td>LINESTRING (-122.57410 37.78560, -122.28300 37...</td>\n",
       "    </tr>\n",
       "    <tr>\n",
       "      <th>...</th>\n",
       "      <td>...</td>\n",
       "      <td>...</td>\n",
       "      <td>...</td>\n",
       "      <td>...</td>\n",
       "      <td>...</td>\n",
       "      <td>...</td>\n",
       "      <td>...</td>\n",
       "      <td>...</td>\n",
       "      <td>...</td>\n",
       "      <td>...</td>\n",
       "      <td>...</td>\n",
       "      <td>...</td>\n",
       "    </tr>\n",
       "    <tr>\n",
       "      <th>15764</th>\n",
       "      <td>Calaveras;CC+CS</td>\n",
       "      <td>3</td>\n",
       "      <td>1</td>\n",
       "      <td>65.154474</td>\n",
       "      <td>65.154474</td>\n",
       "      <td>65.154474</td>\n",
       "      <td>65.017197</td>\n",
       "      <td>-24.240877</td>\n",
       "      <td>6.35</td>\n",
       "      <td>0.018072</td>\n",
       "      <td>0.000608</td>\n",
       "      <td>LINESTRING (-121.39560 36.82570, -121.46780 36...</td>\n",
       "    </tr>\n",
       "    <tr>\n",
       "      <th>15765</th>\n",
       "      <td>Calaveras;CC+CS</td>\n",
       "      <td>4</td>\n",
       "      <td>1</td>\n",
       "      <td>65.154474</td>\n",
       "      <td>65.154474</td>\n",
       "      <td>65.154474</td>\n",
       "      <td>65.017197</td>\n",
       "      <td>-24.240877</td>\n",
       "      <td>6.45</td>\n",
       "      <td>0.014597</td>\n",
       "      <td>0.000490</td>\n",
       "      <td>LINESTRING (-121.39560 36.82570, -121.46780 36...</td>\n",
       "    </tr>\n",
       "    <tr>\n",
       "      <th>15766</th>\n",
       "      <td>Calaveras;CC+CS</td>\n",
       "      <td>5</td>\n",
       "      <td>1</td>\n",
       "      <td>65.154474</td>\n",
       "      <td>65.154474</td>\n",
       "      <td>65.154474</td>\n",
       "      <td>65.017197</td>\n",
       "      <td>-24.240877</td>\n",
       "      <td>6.55</td>\n",
       "      <td>0.009909</td>\n",
       "      <td>0.000332</td>\n",
       "      <td>LINESTRING (-121.39560 36.82570, -121.46780 36...</td>\n",
       "    </tr>\n",
       "    <tr>\n",
       "      <th>15767</th>\n",
       "      <td>Calaveras;CC+CS</td>\n",
       "      <td>6</td>\n",
       "      <td>1</td>\n",
       "      <td>65.154474</td>\n",
       "      <td>65.154474</td>\n",
       "      <td>65.154474</td>\n",
       "      <td>65.017197</td>\n",
       "      <td>-24.240877</td>\n",
       "      <td>6.65</td>\n",
       "      <td>0.004240</td>\n",
       "      <td>0.000142</td>\n",
       "      <td>LINESTRING (-121.39560 36.82570, -121.46780 36...</td>\n",
       "    </tr>\n",
       "    <tr>\n",
       "      <th>15768</th>\n",
       "      <td>Calaveras;CC+CS</td>\n",
       "      <td>7</td>\n",
       "      <td>1</td>\n",
       "      <td>65.154474</td>\n",
       "      <td>65.154474</td>\n",
       "      <td>65.154474</td>\n",
       "      <td>65.017197</td>\n",
       "      <td>-24.240877</td>\n",
       "      <td>6.75</td>\n",
       "      <td>0.001032</td>\n",
       "      <td>0.000034</td>\n",
       "      <td>LINESTRING (-121.39560 36.82570, -121.46780 36...</td>\n",
       "    </tr>\n",
       "  </tbody>\n",
       "</table>\n",
       "<p>1521 rows × 12 columns</p>\n",
       "</div>"
      ],
      "text/plain": [
       "                         Name  Rupture  Source   Distance  DistanceRup  \\\n",
       "520    N. San Andreas;SAP+SAS        0      41  13.020442    13.020442   \n",
       "521    N. San Andreas;SAP+SAS        1      41  13.020442    13.020442   \n",
       "522    N. San Andreas;SAP+SAS        2      41  13.020442    13.020442   \n",
       "523    N. San Andreas;SAP+SAS        3      41  13.020442    13.020442   \n",
       "524    N. San Andreas;SAP+SAS        4      41  13.020442    13.020442   \n",
       "...                       ...      ...     ...        ...          ...   \n",
       "15764         Calaveras;CC+CS        3       1  65.154474    65.154474   \n",
       "15765         Calaveras;CC+CS        4       1  65.154474    65.154474   \n",
       "15766         Calaveras;CC+CS        5       1  65.154474    65.154474   \n",
       "15767         Calaveras;CC+CS        6       1  65.154474    65.154474   \n",
       "15768         Calaveras;CC+CS        7       1  65.154474    65.154474   \n",
       "\n",
       "       DistanceSeis  DistanceJB  DistanceX  Magnitude  Probability  \\\n",
       "520       13.355722   13.014427 -13.014197       7.25     0.003287   \n",
       "521       13.355722   13.014427 -13.014197       7.35     0.009787   \n",
       "522       13.355722   13.014427 -13.014197       7.45     0.014728   \n",
       "523       13.355722   13.014427 -13.014197       7.55     0.011204   \n",
       "524       13.355722   13.014427 -13.014197       7.65     0.004321   \n",
       "...             ...         ...        ...        ...          ...   \n",
       "15764     65.154474   65.017197 -24.240877       6.35     0.018072   \n",
       "15765     65.154474   65.017197 -24.240877       6.45     0.014597   \n",
       "15766     65.154474   65.017197 -24.240877       6.55     0.009909   \n",
       "15767     65.154474   65.017197 -24.240877       6.65     0.004240   \n",
       "15768     65.154474   65.017197 -24.240877       6.75     0.001032   \n",
       "\n",
       "       MeanAnnualRate                                           geometry  \n",
       "520          0.000110  LINESTRING (-122.57410 37.78560, -122.28300 37...  \n",
       "521          0.000328  LINESTRING (-122.57410 37.78560, -122.28300 37...  \n",
       "522          0.000495  LINESTRING (-122.57410 37.78560, -122.28300 37...  \n",
       "523          0.000376  LINESTRING (-122.57410 37.78560, -122.28300 37...  \n",
       "524          0.000144  LINESTRING (-122.57410 37.78560, -122.28300 37...  \n",
       "...               ...                                                ...  \n",
       "15764        0.000608  LINESTRING (-121.39560 36.82570, -121.46780 36...  \n",
       "15765        0.000490  LINESTRING (-121.39560 36.82570, -121.46780 36...  \n",
       "15766        0.000332  LINESTRING (-121.39560 36.82570, -121.46780 36...  \n",
       "15767        0.000142  LINESTRING (-121.39560 36.82570, -121.46780 36...  \n",
       "15768        0.000034  LINESTRING (-121.39560 36.82570, -121.46780 36...  \n",
       "\n",
       "[1521 rows x 12 columns]"
      ]
     },
     "execution_count": 9,
     "metadata": {},
     "output_type": "execute_result"
    }
   ],
   "source": [
    "ruptures"
   ]
  },
  {
   "cell_type": "markdown",
   "metadata": {},
   "source": [
    "### Select a Rupture for a specified Fault and Magnitude"
   ]
  },
  {
   "cell_type": "code",
   "execution_count": 10,
   "metadata": {
    "ExecuteTime": {
     "end_time": "2020-05-22T20:09:54.829423Z",
     "start_time": "2020-05-22T20:09:54.822455Z"
    }
   },
   "outputs": [],
   "source": [
    "def select_rupture(site, ruptures, m_mainshock, dm, fault):\n",
    "    m_min = m_mainshock - dm / 2\n",
    "    m_max = m_mainshock + dm / 2\n",
    "\n",
    "    magnitude_idx = (ruptures['Magnitude'] > m_min) & (ruptures['Magnitude'] <= m_max)\n",
    "    fault_idx = ruptures['Name'].str.contains(fault)\n",
    "    idx = magnitude_idx & fault_idx\n",
    "    r_min = ruptures[idx]['DistanceRup'].min()\n",
    "    distance_idx = (ruptures['DistanceRup'] >= r_min) & (ruptures['DistanceRup'] < r_min + 0.1)\n",
    "    idx = idx & distance_idx\n",
    "    idx = np.around(np.median(np.where(idx)[0])).astype('int')\n",
    "\n",
    "    return idx"
   ]
  },
  {
   "cell_type": "code",
   "execution_count": 11,
   "metadata": {
    "ExecuteTime": {
     "end_time": "2020-05-22T20:09:56.193407Z",
     "start_time": "2020-05-22T20:09:56.189385Z"
    }
   },
   "outputs": [],
   "source": [
    "# fault name should include this string\n",
    "fault = 'San Andreas'\n",
    "\n",
    "# magnitude\n",
    "m  = 7.2\n",
    "# magnitude interval\n",
    "dm = 0.1\n",
    "    # (if the interval is 7-7.1, the magnitude is returned as 7.05)"
   ]
  },
  {
   "cell_type": "code",
   "execution_count": 12,
   "metadata": {
    "ExecuteTime": {
     "end_time": "2020-05-22T20:10:32.995314Z",
     "start_time": "2020-05-22T20:10:32.966329Z"
    }
   },
   "outputs": [
    {
     "name": "stdout",
     "output_type": "stream",
     "text": [
      "Selected source idx: 127\n",
      "Selected rupture idx: 636\n"
     ]
    },
    {
     "data": {
      "text/html": [
       "<div>\n",
       "<style scoped>\n",
       "    .dataframe tbody tr th:only-of-type {\n",
       "        vertical-align: middle;\n",
       "    }\n",
       "\n",
       "    .dataframe tbody tr th {\n",
       "        vertical-align: top;\n",
       "    }\n",
       "\n",
       "    .dataframe thead th {\n",
       "        text-align: right;\n",
       "    }\n",
       "</style>\n",
       "<table border=\"1\" class=\"dataframe\">\n",
       "  <thead>\n",
       "    <tr style=\"text-align: right;\">\n",
       "      <th></th>\n",
       "      <th>Name</th>\n",
       "      <th>Rupture</th>\n",
       "      <th>Source</th>\n",
       "      <th>Distance</th>\n",
       "      <th>DistanceRup</th>\n",
       "      <th>DistanceSeis</th>\n",
       "      <th>DistanceJB</th>\n",
       "      <th>DistanceX</th>\n",
       "      <th>Magnitude</th>\n",
       "      <th>Probability</th>\n",
       "      <th>MeanAnnualRate</th>\n",
       "      <th>geometry</th>\n",
       "    </tr>\n",
       "  </thead>\n",
       "  <tbody>\n",
       "    <tr>\n",
       "      <th>652</th>\n",
       "      <td>N. San Andreas</td>\n",
       "      <td>636</td>\n",
       "      <td>127</td>\n",
       "      <td>13.023695</td>\n",
       "      <td>13.023695</td>\n",
       "      <td>13.363174</td>\n",
       "      <td>13.022074</td>\n",
       "      <td>-13.014313</td>\n",
       "      <td>7.25</td>\n",
       "      <td>0.000043</td>\n",
       "      <td>0.000001</td>\n",
       "      <td>LINESTRING (-122.89915 38.16095, -122.89259 38...</td>\n",
       "    </tr>\n",
       "  </tbody>\n",
       "</table>\n",
       "</div>"
      ],
      "text/plain": [
       "               Name  Rupture  Source   Distance  DistanceRup  DistanceSeis  \\\n",
       "652  N. San Andreas      636     127  13.023695    13.023695     13.363174   \n",
       "\n",
       "     DistanceJB  DistanceX  Magnitude  Probability  MeanAnnualRate  \\\n",
       "652   13.022074 -13.014313       7.25     0.000043        0.000001   \n",
       "\n",
       "                                              geometry  \n",
       "652  LINESTRING (-122.89915 38.16095, -122.89259 38...  "
      ]
     },
     "execution_count": 12,
     "metadata": {},
     "output_type": "execute_result"
    }
   ],
   "source": [
    "idx = select_rupture(site, ruptures, m, dm, fault)\n",
    "selected_rupture = ruptures[idx:idx+1]\n",
    "\n",
    "print('Selected source idx: %s'%(selected_rupture['Source'].values[0]))\n",
    "print('Selected rupture idx: %s'%(selected_rupture['Rupture'].values[0]))\n",
    "selected_rupture"
   ]
  },
  {
   "cell_type": "markdown",
   "metadata": {},
   "source": [
    "#### map selected rupture"
   ]
  },
  {
   "cell_type": "code",
   "execution_count": 13,
   "metadata": {
    "ExecuteTime": {
     "end_time": "2020-05-22T20:10:33.167240Z",
     "start_time": "2020-05-22T20:10:32.998312Z"
    }
   },
   "outputs": [
    {
     "data": {
      "image/png": "[encoded data removed]",
      "text/plain": [
       "<Figure size 720x720 with 1 Axes>"
      ]
     },
     "metadata": {
      "needs_background": "light"
     },
     "output_type": "display_data"
    }
   ],
   "source": [
    "bounds = selected_rupture.total_bounds\n",
    "\n",
    "xlim = [bounds[0], bounds[2]]\n",
    "x_gap = 0.1*(xlim[1]-xlim[0])\n",
    "xlim = [xlim[0]-x_gap, xlim[1]+x_gap]\n",
    "\n",
    "ylim = [bounds[1], bounds[3]]\n",
    "y_gap = 0.1*(ylim[1]-ylim[0])\n",
    "ylim = [ylim[0]-y_gap, ylim[1]+y_gap]\n",
    "\n",
    "fig, ax = plt.subplots(1,1, figsize=(10,10))\n",
    "_ = ca_map.plot(ax=ax, color='silver')\n",
    "_ = selected_rupture.plot(ax=ax, color='brown', linewidth=3)\n",
    "\n",
    "_ = site.plot(ax=ax, color='k', zorder=5, markersize=100)\n",
    "\n",
    "_ = ax.fill_between(xlim, [ylim[0]]*2, [ylim[1]]*2,color='azure', zorder=-5)\n",
    "_ = ax.set_xlim(xlim)\n",
    "_ = ax.set_ylim(ylim)\n",
    "_ = ax.axis('off')   "
   ]
  },
  {
   "cell_type": "code",
   "execution_count": null,
   "metadata": {},
   "outputs": [],
   "source": []
  }
 ],
 "metadata": {
  "kernelspec": {
   "display_name": "Python 3",
   "language": "python",
   "name": "python3"
  },
  "language_info": {
   "codemirror_mode": {
    "name": "ipython",
    "version": 3
   },
   "file_extension": ".py",
   "mimetype": "text/x-python",
   "name": "python",
   "nbconvert_exporter": "python",
   "pygments_lexer": "ipython3",
   "version": "3.7.6"
  }
 },
 "nbformat": 4,
 "nbformat_minor": 2
}
